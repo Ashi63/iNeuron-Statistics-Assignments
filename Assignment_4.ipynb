{
 "cells": [
  {
   "cell_type": "markdown",
   "id": "ae6d0d8b",
   "metadata": {},
   "source": [
    "### 1.Is it possible that an event is independent of itself? If so, when?\n"
   ]
  },
  {
   "cell_type": "markdown",
   "id": "fd5f8328",
   "metadata": {},
   "source": [
    "No, it is not possible for an event to be independent of itself. Independence is defined in terms of two or more events, and refers to the idea that the occurrence of one event does not affect the probability of the other event(s) occurring. When talking about a single event, it doesn't make sense to talk about whether it is independent of itself."
   ]
  },
  {
   "cell_type": "markdown",
   "id": "737c4542",
   "metadata": {},
   "source": [
    "### 2.Is it always true that if A and B are independent events, then Ac and Bc are independent events? Show that it is, or give a counterexample.\n"
   ]
  },
  {
   "cell_type": "markdown",
   "id": "cb8bc0c2",
   "metadata": {},
   "source": [
    "It is not always true that if A and B are independent events, then Ac and Bc are independent events.\n",
    "\n",
    "Here's a counterexample:\n",
    "\n",
    "Suppose we have a deck of cards and two events A and B, where:\n",
    "\n",
    "- A = drawing a red card\n",
    "- B = drawing a card with a value of 10 or higher\n",
    "Then, we can see that A and B are independent events.\n",
    "\n",
    "However, let's consider the complements of A and B:\n",
    "\n",
    "- Ac = drawing a black card\n",
    "- Bc = drawing a card with a value less than 10\n",
    "\n",
    "We can see that Ac and Bc are not independent events, since if we draw a black card (Ac), then it's more likely that we will draw a card with a value less than 10 (Bc), since most of the black cards have lower values."
   ]
  },
  {
   "cell_type": "code",
   "execution_count": null,
   "id": "7c7285c0",
   "metadata": {},
   "outputs": [],
   "source": []
  }
 ],
 "metadata": {
  "kernelspec": {
   "display_name": "Python 3 (ipykernel)",
   "language": "python",
   "name": "python3"
  },
  "language_info": {
   "codemirror_mode": {
    "name": "ipython",
    "version": 3
   },
   "file_extension": ".py",
   "mimetype": "text/x-python",
   "name": "python",
   "nbconvert_exporter": "python",
   "pygments_lexer": "ipython3",
   "version": "3.9.13"
  }
 },
 "nbformat": 4,
 "nbformat_minor": 5
}
