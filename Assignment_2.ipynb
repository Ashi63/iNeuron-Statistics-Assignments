{
 "cells": [
  {
   "cell_type": "markdown",
   "id": "635a0d60",
   "metadata": {},
   "source": [
    "### 1. Raindrops are falling at an average rate of 20 drops per square inch per minute. What would be a reasonable distribution to use for the number of raindrops hitting a particular region measuring 5 inches2 in t minutes? Why? Using your chosen distribution, compute the probability that the region has no rain drops in a given 3 second time interval. A reasonable choice of distribution is P"
   ]
  },
  {
   "cell_type": "code",
   "execution_count": null,
   "id": "806a1441",
   "metadata": {},
   "outputs": [],
   "source": [
    "A reasonable distribution to use for the number of raindrops hitting a particular region measuring 5 square inches in t minutes is the Poisson distribution. The Poisson distribution is used to model the number of events that occur in a fixed interval of time or space when the events occur independently and at a constant rate.\n",
    "\n",
    "Let λ be the average rate of raindrops per square inch per minute. Then the expected number of raindrops in a region measuring 5 square inches in t minutes is 5λt.\n",
    "\n",
    "The probability of having no raindrops in a given 3 second time interval is given by:\n",
    "\n",
    "P(X=0) = e^(-λt)\n",
    "\n",
    "Here, t = 3 seconds and the area is 5 square inches. Therefore, the rate of raindrops is λ = 20*5 = 100 drops per minute = 1.67 drops per second.\n",
    "\n",
    "Substituting these values, we get:\n",
    "\n",
    "P(X=0) = e^(-1.67*3) ≈ 0.065\n",
    "\n",
    "So the probability that the region has no raindrops in a given 3 second time interval is approximately 0.065."
   ]
  },
  {
   "cell_type": "markdown",
   "id": "f413a496",
   "metadata": {},
   "source": [
    "### 2.\tLet X be a random day of the week, coded so that Monday is 1, Tuesday is 2, etc. (so X takes values 1, 2,..., 7, with equal probabilities). Let Y be the next day after X (again represented as an integer between 1 and 7). Do X and Y have the same distribution? What is P(X)"
   ]
  },
  {
   "cell_type": "code",
   "execution_count": null,
   "id": "fa29681c",
   "metadata": {},
   "outputs": [],
   "source": [
    "No, X and Y do not have the same distribution.\n",
    "\n",
    "To see this, note that P(Y=1) = P(X=7) = 1/7, but P(Y=2) = P(X=1) = 1/7, and so on. \n",
    "\n",
    "So the probability distribution for Y is shifted one day to the right compared to the distribution for X.\n",
    "\n",
    "Since X takes values 1 through 7 with equal probabilities, P(X=i) = 1/7 for each i in {1,2,3,4,5,6,7}."
   ]
  }
 ],
 "metadata": {
  "kernelspec": {
   "display_name": "Python 3 (ipykernel)",
   "language": "python",
   "name": "python3"
  },
  "language_info": {
   "codemirror_mode": {
    "name": "ipython",
    "version": 3
   },
   "file_extension": ".py",
   "mimetype": "text/x-python",
   "name": "python",
   "nbconvert_exporter": "python",
   "pygments_lexer": "ipython3",
   "version": "3.9.13"
  }
 },
 "nbformat": 4,
 "nbformat_minor": 5
}
