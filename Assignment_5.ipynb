{
 "cells": [
  {
   "cell_type": "markdown",
   "id": "68667af9",
   "metadata": {},
   "source": [
    "### 1.Give an example of 3 events A, B, C which are pairwise independent but not independent. Hint: find an example where whether C occurs is completely determined if we know whether A occurred and whether B occurred, but completely undetermined if we know only one of these things.\n"
   ]
  },
  {
   "cell_type": "markdown",
   "id": "73f0ef22",
   "metadata": {},
   "source": [
    "Let A, B, and C be events such that:\n",
    "\n",
    "- A and B are independent events with P(A) = P(B) = 1/2.\n",
    "- C is the event that exactly one of A and B occurs.\n",
    "\n",
    "Then, we have:\n",
    "\n",
    "- P(C | A) = P(B) = 1/2, since if A occurs, then B cannot occur and C depends only on B.\n",
    "- P(C | B) = P(A) = 1/2, since if B occurs, then A cannot occur and C depends only on A.\n",
    "- P(C | A and B) = 0, since if both A and B occur, then C cannot occur.\n",
    "\n",
    "Therefore, A, B, and C are pairwise independent. However, we have:\n",
    "\n",
    "- P(A and B) = P(A)P(B) = 1/4.\n",
    "- P(A and C) = P(A)P(C | A) = 1/4.\n",
    "- P(B and C) = P(B)P(C | B) = 1/4.\n",
    "- P(A and B and C) = 0.\n",
    "\n",
    "Since P(A and B and C) ≠ P(A)P(B)P(C), we conclude that A, B, and C are not independent events."
   ]
  },
  {
   "cell_type": "markdown",
   "id": "450fa726",
   "metadata": {},
   "source": [
    "### 2.A bag contains one marble which is either green or blue, with equal probabilities. A green marble is put in the bag (so there are 2 marbles now), and then a random marble is taken out. The marble taken out is green. What is the probability that the remaining marble is also green?\n"
   ]
  },
  {
   "cell_type": "markdown",
   "id": "6dd765f9",
   "metadata": {},
   "source": [
    "Let G and B denote the events that the original marble in the bag is green or blue, respectively. Let G2 denote the event that the marble drawn from the bag is green.\n",
    "\n",
    "We want to find the probability of event G given that G2 has occurred. By Bayes' theorem:\n",
    "\n",
    "P(G|G2) = P(G2|G) * P(G) / P(G2)\n",
    "\n",
    "We know that P(G) = 1/2, since the original marble is equally likely to be green or blue.\n",
    "\n",
    "We also know that P(G2|G) = 1, since if the original marble is green, then the only marble in the bag is green and so a green marble will always be drawn.\n",
    "\n",
    "Finally, we need to find P(G2), the probability that a green marble is drawn from the bag. This can happen in two ways: either the original marble is green and is drawn (with probability 1/2 * 1), or the original marble is blue and the green marble put in the bag is drawn (with probability 1/2 * 1/2). So:\n",
    "\n",
    "P(G2) = 1/2 * 1 + 1/2 * 1/2 = 3/4\n",
    "\n",
    "Putting it all together, we get:\n",
    "\n",
    "P(G|G2) = 1 * 1/2 / (3/4) = 2/3\n",
    "\n",
    "Therefore, the probability that the remaining marble is also green, given that a green marble was drawn, is 2/3."
   ]
  }
 ],
 "metadata": {
  "kernelspec": {
   "display_name": "Python 3 (ipykernel)",
   "language": "python",
   "name": "python3"
  },
  "language_info": {
   "codemirror_mode": {
    "name": "ipython",
    "version": 3
   },
   "file_extension": ".py",
   "mimetype": "text/x-python",
   "name": "python",
   "nbconvert_exporter": "python",
   "pygments_lexer": "ipython3",
   "version": "3.9.13"
  }
 },
 "nbformat": 4,
 "nbformat_minor": 5
}
