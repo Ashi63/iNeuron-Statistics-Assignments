{
 "cells": [
  {
   "cell_type": "markdown",
   "id": "bce468c2",
   "metadata": {},
   "source": [
    "### 1.\tA crime is committed by one of two suspects, A and B. Initially, there is equal evidence against both of them. In further investigation at the crime scene, it is found that the guilty party had a blood type found in 10% of the population. Suspect A does match this blood type, whereas the blood type of Suspect B is unknown.\n",
    "\n",
    "(a) Given this new information, what is the probability that A is the guilty party? \n",
    "\n",
    "(b) Given this new information, what is the probability that B’s blood type matches that found at the crime scene?"
   ]
  },
  {
   "cell_type": "markdown",
   "id": "aab2139b",
   "metadata": {},
   "source": [
    "Let G be the event that the guilty party is A, and let B be the event that the blood type found at the crime scene matches that of Suspect B. We want to find P(G|B) and P(B).\n",
    "\n",
    "From the problem statement, we know that initially P(G) = P(B) = 0.5. We also know that P(B|G) = 0.1 (since we are told that the guilty party has the blood type found in 10% of the population, which we assume is independent of whether A or B is guilty). Finally, we know that P(B|not G) = the probability that a random person (who is not A) has the blood type found in 10% of the population. Let's call this probability p. Then we have:\n",
    "\n",
    "P(B|not G) = p\n",
    "P(B) = P(B|G)P(G) + P(B|not G)P(not G)\n",
    "= 0.1 * 0.5 + p * 0.5\n",
    "= 0.05 + 0.5p\n",
    "\n",
    "To find P(G|B), we use Bayes' theorem:\n",
    "\n",
    "P(G|B) = P(B|G)P(G) / P(B)\n",
    "= 0.1 * 0.5 / (0.05 + 0.5p)"
   ]
  },
  {
   "cell_type": "markdown",
   "id": "862a374d",
   "metadata": {},
   "source": [
    "#### (a) \n",
    "If we assume that p = 0.1 (i.e., that the probability of a random person having the blood type found at the crime scene is also 10%), then we have:\n",
    "\n",
    "P(B) = 0.05 + 0.5p = 0.05 + 0.05 = 0.1\n",
    "\n",
    "P(G|B) = P(B|G)P(G) / P(B) = 0.1 * 0.5 / 0.1 = 0.5\n",
    "\n",
    "So the probability that A is the guilty party, given that the blood type found at the crime scene matches that of Suspect B, is 0.5."
   ]
  },
  {
   "cell_type": "markdown",
   "id": "c0e500b2",
   "metadata": {},
   "source": [
    "#### (b) \n",
    "\n",
    "To find the probability that B's blood type matches that found at the crime scene, we use the law of total probability:\n",
    "\n",
    "P(B) = P(B|G)P(G) + P(B|not G)P(not G)\n",
    "= 0.1 * 0.5 + p * 0.5\n",
    "\n",
    "We know from part (a) that P(G|B) = 0.5. Using Bayes' theorem again, we have:\n",
    "\n",
    "P(B|G) = P(G|B)P(B) / P(G)\n",
    "= 0.5 * (0.1 * 0.5 + p * 0.5) / 0.5\n",
    "= 0.1 + 0.5p/2\n",
    "= 0.1 + 0.25p\n",
    "\n",
    "So the probability that B's blood type matches that found at the crime scene is 0.1 + 0.25p. \n",
    "\n",
    "If we assume that p = 0.1, then this probability is 0.125 or 12.5%."
   ]
  }
 ],
 "metadata": {
  "kernelspec": {
   "display_name": "Python 3 (ipykernel)",
   "language": "python",
   "name": "python3"
  },
  "language_info": {
   "codemirror_mode": {
    "name": "ipython",
    "version": 3
   },
   "file_extension": ".py",
   "mimetype": "text/x-python",
   "name": "python",
   "nbconvert_exporter": "python",
   "pygments_lexer": "ipython3",
   "version": "3.9.13"
  }
 },
 "nbformat": 4,
 "nbformat_minor": 5
}
