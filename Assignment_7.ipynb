{
 "cells": [
  {
   "cell_type": "markdown",
   "id": "d7b910c5",
   "metadata": {},
   "source": [
    "### 1.\tA spam filter is designed by looking at commonly occurring phrases in spam. Suppose that 80% of email is spam. In 10% of the spam emails, the phrase “free money” is used, whereas this phrase is only used in 1% of non-spam emails. A new email has just arrived, which does mention “free money”. What is the probability that it is spam?"
   ]
  },
  {
   "cell_type": "markdown",
   "id": "41b8e90a",
   "metadata": {},
   "source": [
    "Let S denote the event that the email is spam, and F denote the event that the email contains the phrase \"free money\". We want to find P(S|F).\n",
    "\n",
    "By Bayes' theorem, we have:\n",
    "\n",
    "P(S|F) = P(F|S)P(S) / P(F)\n",
    "\n",
    "We know that P(S) = 0.8, and P(F|S) = 0.1 (the probability of \"free money\" appearing in a spam email).\n",
    "\n",
    "To find P(F), we use the law of total probability:\n",
    "\n",
    "P(F) = P(F|S)P(S) + P(F|S^c)P(S^c)\n",
    "\n",
    "where S^c denotes the complement of S (i.e., the event that the email is not spam). We know that P(F|S^c) = 0.01 (the probability of \"free money\" appearing in a non-spam email), and P(S^c) = 0.2 (the complement of P(S)).\n",
    "\n"
   ]
  },
  {
   "cell_type": "markdown",
   "id": "07494c15",
   "metadata": {},
   "source": [
    "Putting everything together, we have:\n",
    "\n",
    "P(S|F) = 0.1 * 0.8 / [0.1 * 0.8 + 0.01 * 0.2] = 0.89\n",
    "\n",
    "Therefore, the probability that the email is spam, given that it contains the phrase \"free money\", is approximately 0.89."
   ]
  }
 ],
 "metadata": {
  "kernelspec": {
   "display_name": "Python 3 (ipykernel)",
   "language": "python",
   "name": "python3"
  },
  "language_info": {
   "codemirror_mode": {
    "name": "ipython",
    "version": 3
   },
   "file_extension": ".py",
   "mimetype": "text/x-python",
   "name": "python",
   "nbconvert_exporter": "python",
   "pygments_lexer": "ipython3",
   "version": "3.9.13"
  }
 },
 "nbformat": 4,
 "nbformat_minor": 5
}
