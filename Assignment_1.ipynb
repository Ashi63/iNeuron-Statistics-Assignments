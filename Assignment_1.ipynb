{
 "cells": [
  {
   "cell_type": "markdown",
   "id": "5f7c03be",
   "metadata": {},
   "source": [
    "### 1.Harvard Law School courses often have assigned seating to facilitate the “Socratic method.” Suppose that there are 100 first year Harvard Law students, and each takes two courses: Torts and Contracts. Both are held in the same lecture hall (which has 100 seats), and the seating is uniformly random and independent for the two courses. \n"
   ]
  },
  {
   "cell_type": "markdown",
   "id": "e1ca0753",
   "metadata": {},
   "source": [
    "(a) Find the probability that no one has the same seat for both courses (exactly; you should   leave your answer as a sum). \n"
   ]
  },
  {
   "cell_type": "code",
   "execution_count": null,
   "id": "7bd7ee4a",
   "metadata": {},
   "outputs": [],
   "source": [
    "# (a) To find the probability that no one has the same seat for both courses, we can use the principle of inclusion-exclusion. Let A be the event that no student has the same seat for Torts and Contracts, and let Ai be the event that exactly i students have the same seat for both courses. Then we want to find P(A). We have:\n",
    "\n",
    "P(A0) = 1 (if no one has the same seat, then obviously no one has the same seat for both courses)\n",
    "P(Ai) = (100 choose i) * [(99-i)/100]^(100-i) * [i/100]^i (choose i students to have the same seat, and then calculate the probability that the remaining 100-i seats are all different)\n",
    "P(A) = 1 - P(A1) - P(A2) - ... - P(A100)\n",
    "\n",
    "# Plugging in the values, we get:\n",
    "\n",
    "P(A) = 1 - (100 choose 1) * [(99-1)/100]^99 * [1/100]^1 - (100 choose 2) * [(99-2)/100]^98 * [2/100]^2 - ... - (100 choose 100) * [(99-100)/100]^0 * [100/100]^100\n",
    "P(A) ≈ 0.29"
   ]
  },
  {
   "cell_type": "markdown",
   "id": "f6875149",
   "metadata": {},
   "source": [
    "(b) Find a simple but accurate approximation to the probability that no one has the same seat for both courses. \n"
   ]
  },
  {
   "cell_type": "code",
   "execution_count": null,
   "id": "daee8243",
   "metadata": {},
   "outputs": [],
   "source": [
    "# (b) To find a simple approximation, we can use the fact that for large n, (1-1/n)^n ≈ 1/e. So we can approximate the probability that one student has the same seat for both courses as:\n",
    "\n",
    "P(one student has the same seat) ≈ 2 * (1/100) * (99/100)^99 ≈ 2/e\n",
    "\n",
    "# Using the linearity of expectation, we can then approximate the probability that no one has the same seat for both courses as:\n",
    "\n",
    "P(A) ≈ (1 - 2/e)^100 ≈ 0.303\n",
    "\n",
    "This is a fairly accurate approximation."
   ]
  },
  {
   "cell_type": "markdown",
   "id": "944b564f",
   "metadata": {},
   "source": [
    "(c) Find a simple but accurate approximation to the probability that at least two students have the same seat for both courses.\n"
   ]
  },
  {
   "cell_type": "code",
   "execution_count": null,
   "id": "3b9e53db",
   "metadata": {},
   "outputs": [],
   "source": [
    "# (c) To find a simple approximation for the probability that at least two students have the same seat for both courses, we can use the fact that for large n and k, the probability that k balls land in at least one of n bins when thrown randomly is approximately 1 - e^(-k(k-1)/(2n)). So we can approximate the probability that at least two students have the same seat for both courses as:\n",
    "\n",
    "P(at least two students have the same seat) ≈ 1 - e^(-2/(100-1))\n",
    "P(at least two students have the same seat) ≈ 0.02\n",
    "\n",
    "# This is a fairly accurate approximation."
   ]
  },
  {
   "cell_type": "markdown",
   "id": "8b2d3414",
   "metadata": {},
   "source": [
    "### 2. There are 100 passengers lined up to board an airplane with 100 seats (with each seat assigned to one of the passengers). The first passenger in line crazily decides to sit in a randomly chosen seat (with all seats equally likely). Each subsequent passenger takes his or her assigned seat if available, and otherwise sits in a random available seat. What is the probability that the last passenger in line gets to sit in his or her assigned seat?\n"
   ]
  },
  {
   "cell_type": "markdown",
   "id": "de26e33e",
   "metadata": {},
   "source": [
    "This is a classic problem in probability theory known as the \"100 prisoners problem\" or the \"Monty Hall problem with multiple doors\". The probability that the last passenger gets to sit in his or her assigned seat is 1/2 or 0.5.\n",
    "\n",
    "To see why, consider the following two cases:\n",
    "\n",
    "Case 1: The first passenger sits in his or her assigned seat. In this case, all subsequent passengers will also sit in their assigned seats, and the last passenger will get to sit in his or her assigned seat with probability 1.\n",
    "\n",
    "Case 2: The first passenger sits in a seat other than his or her assigned seat. In this case, there are two possibilities for what happens next:\n",
    "\n",
    "Scenario 2a: The second passenger sits in his or her assigned seat (which is the seat that the first passenger chose). In this case, all subsequent passengers will also sit in their assigned seats, and the last passenger will get to sit in his or her assigned seat with probability 1/2 (since there are two seats left, one of which is his or her assigned seat).\n",
    "\n",
    "Scenario 2b: The second passenger sits in a seat other than his or her assigned seat (which is the seat that the first passenger did not choose). In this case, the third passenger has two possible seats to choose from: his or her assigned seat (which is still available) or the seat that the first passenger chose (which is now taken by the second passenger). If the third passenger chooses his or her assigned seat, all subsequent passengers will also sit in their assigned seats, and the last passenger will get to sit in his or her assigned seat with probability 1/2 (since there are two seats left, one of which is his or her assigned seat). If the third passenger chooses the seat that the first passenger chose, the fourth passenger has two possible seats to choose from: his or her assigned seat (which is still available) or the seat that the first passenger did not choose (which is now taken by the second passenger). This process continues until either a passenger chooses his or her assigned seat (in which case all subsequent passengers will also sit in their assigned seats and the last passenger will get to sit in his or her assigned seat with probability 1/2) or the last passenger has only one seat to choose from (which is his or her assigned seat).\n",
    "\n",
    "Now, since the first passenger chooses a seat randomly, the probability of Case 1 is 1/100, and the probability of Case 2 is 99/100. Moreover, the probability of Scenario 2a is 1/2, and the probability of Scenario 2b is also 1/2. Therefore, the probability that the last passenger gets to sit in his or her assigned seat is:\n",
    "\n",
    "(1/100) * 1 + (99/100) * (1/2 * 1/2 + 1/2 * 1/2 * 1/2 * 1/2 + 1/2 * 1/2 * 1/2 * 1/2 * 1/2 * 1/2 + ...) = 1/2\n",
    "\n",
    "The second term in the equation represents the probability of Case 2, and the sum represents the probability of all possible scenarios in Case 2 (i.e., the probability of Scenario 2a plus the probability of all possible sequences of Scenarios 2b). The sum converges to 1/2, so the probability that the last passenger gets to sit in his or her assigned seat is 1/2 or 0.5."
   ]
  },
  {
   "cell_type": "code",
   "execution_count": null,
   "id": "240a7871",
   "metadata": {},
   "outputs": [],
   "source": []
  }
 ],
 "metadata": {
  "kernelspec": {
   "display_name": "Python 3 (ipykernel)",
   "language": "python",
   "name": "python3"
  },
  "language_info": {
   "codemirror_mode": {
    "name": "ipython",
    "version": 3
   },
   "file_extension": ".py",
   "mimetype": "text/x-python",
   "name": "python",
   "nbconvert_exporter": "python",
   "pygments_lexer": "ipython3",
   "version": "3.9.13"
  }
 },
 "nbformat": 4,
 "nbformat_minor": 5
}
