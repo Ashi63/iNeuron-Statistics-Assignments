{
 "cells": [
  {
   "cell_type": "markdown",
   "id": "a1c11675",
   "metadata": {},
   "source": [
    "### 1.\tA chicken lays n eggs. Each egg independently does or doesn’t hatch, with probability p of hatching. For each egg that hatches, the chick does or doesn’t survive (independently of the other eggs), with probability s of survival. Let N ⇠ Bin(n, p) be the number of eggs which hatch, X be the number of chicks which survive, and Y be the number of chicks which hatch but don’t survive (so X + Y = N). Find the marginal PMF of X, and the joint PMF of X and Y . Are they independent?"
   ]
  },
  {
   "cell_type": "markdown",
   "id": "4f6ebbec",
   "metadata": {},
   "source": [
    "Let $k$ be the number of eggs that hatch and survive. Then, X = k and Y = N - k. We have:\n",
    "\n",
    "\n",
    "P(X = k) &= P(k \\{ eggs hatch and survive})\\\n",
    "&= {n \\ k} p^k s^{k} (1-p)^{n-k}\n",
    "\n",
    "\n",
    "This is the marginal PMF of X.\n",
    "\n",
    "To find the joint PMF of X and Y, we can write:\n",
    "\n",
    "\n",
    "P(X = k, Y = j) &= P(k \\text{ eggs hatch and survive, } j \\text{ eggs hatch but don't survive})\\\n",
    "&= {n \\ k} p^k s^{k} (1-p)^{n-k} {n-k \\ j} p^{j} (1-p)^{n-k-j} (1-s)^j\n",
    "\n",
    "\n",
    "Note that X and Y are not independent since the outcome of one affects the other.\n",
    "For example, if we know that X=n, then we know that Y=0"
   ]
  },
  {
   "cell_type": "code",
   "execution_count": null,
   "id": "39b69ff6",
   "metadata": {},
   "outputs": [],
   "source": []
  }
 ],
 "metadata": {
  "kernelspec": {
   "display_name": "Python 3 (ipykernel)",
   "language": "python",
   "name": "python3"
  },
  "language_info": {
   "codemirror_mode": {
    "name": "ipython",
    "version": 3
   },
   "file_extension": ".py",
   "mimetype": "text/x-python",
   "name": "python",
   "nbconvert_exporter": "python",
   "pygments_lexer": "ipython3",
   "version": "3.9.13"
  }
 },
 "nbformat": 4,
 "nbformat_minor": 5
}
