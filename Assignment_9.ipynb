{
 "cells": [
  {
   "cell_type": "markdown",
   "id": "84182347",
   "metadata": {},
   "source": [
    "### 1.You are going to play 2 games of chess with an opponent whom you have never played against before (for the sake of this problem). Your opponent is equally likely to be a beginner, intermediate, or a master. Depending on \n"
   ]
  },
  {
   "cell_type": "markdown",
   "id": "a132a6e9",
   "metadata": {},
   "source": [
    "#### (a) What is your probability of winning the first game? \n"
   ]
  },
  {
   "cell_type": "markdown",
   "id": "6b638b01",
   "metadata": {},
   "source": [
    "Let A be the event that the opponent is a beginner, B be the event that the opponent is an intermediate, and C be the event that the opponent is a master. We have P(A) = P(B) = P(C) = 1/3. Let W be the event that you win the game. Then by the law of total probability, we have:\n",
    "\n",
    "P(W) = P(W|A)P(A) + P(W|B)P(B) + P(W|C)P(C)\n",
    "\n",
    "Since we have no information on your opponent's playing ability, we assume that the probability of winning is equally likely against all skill levels. That is, P(W|A) = P(W|B) = P(W|C) = 1/2. Therefore,\n",
    "\n",
    "P(W) = (1/2)(1/3) + (1/2)(1/3) + (1/2)(1/3) = 1/2\n",
    "\n",
    "So your probability of winning the first game is 1/2."
   ]
  },
  {
   "cell_type": "markdown",
   "id": "d4ad54a9",
   "metadata": {},
   "source": [
    "#### (b) Congratulations: you won the first game! Given this information, what is the probability that you will also win the second game \n"
   ]
  },
  {
   "cell_type": "markdown",
   "id": "9a73a50d",
   "metadata": {},
   "source": [
    "Let D be the event that you win both games. Since you won the first game, we are only concerned with the probability of winning the second game given that you won the first game. That is,\n",
    "\n",
    "P(D|W) = P(W and D)/P(W)\n",
    "\n",
    "We can compute P(W and D) as follows:\n",
    "\n",
    "P(W and D) = P(D|A and W)P(A|W) + P(D|B and W)P(B|W) + P(D|C and W)P(C|W)\n",
    "\n",
    "Since we won the first game, we know that our opponent is not a beginner. Therefore, P(A|W) = 0, and we only need to consider P(D|B and W) and P(D|C and W).\n",
    "\n",
    "Suppose we play against an intermediate player. If we assume that the games are independent, then our probability of winning both games is (1/2)(1/2) = 1/4. If we assume that the games are conditionally independent given the opponent's skill level, then our probability of winning the second game is still 1/2, regardless of whether we won the first game. Therefore, P(D|B and W) = 1/2. Similarly, suppose we play against a master. If we assume independence, then our probability of winning both games is (1/2)(3/4) = 3/8. If we assume conditional independence, then our probability of winning the second game is still 1/2, regardless of whether we won the first game. Therefore, P(D|C and W) = 1/2. Putting it all together, we get:\n",
    "\n",
    "P(D|W) = (1/2)(1/3) + (1/2)(1/3) = 1/3\n",
    "\n",
    "So the probability that you win both games given that you won the first game is 1/3."
   ]
  },
  {
   "cell_type": "markdown",
   "id": "d5ca6301",
   "metadata": {},
   "source": [
    "#### (c) Explain the distinction between assuming that the outcomes of the games are independent and assuming that they are conditionally independent given the opponent’s skill level. Which of these assumptions seems more reasonable, and why?\n"
   ]
  },
  {
   "cell_type": "markdown",
   "id": "6b63149b",
   "metadata": {},
   "source": [
    "Assuming that the outcomes of the games are independent means that the outcome of one game does not affect the outcome of the other game. This may not be a reasonable assumption since your opponent may adjust their playing style based on the outcome of the first game. For example, if they lose the first game, they may become more cautious in the second game, while if they win the first game, they may become more aggressive. Assuming that the outcomes are conditionally independent given the opponent's skill level means that the outcome of one game may affect the outcome of the other game, but only through the opponent's playing ability. This seems like a more reasonable assumption, as it takes into account the fact that your opponent may adjust their playing style based on"
   ]
  },
  {
   "cell_type": "code",
   "execution_count": null,
   "id": "75088d8e",
   "metadata": {},
   "outputs": [],
   "source": []
  }
 ],
 "metadata": {
  "kernelspec": {
   "display_name": "Python 3 (ipykernel)",
   "language": "python",
   "name": "python3"
  },
  "language_info": {
   "codemirror_mode": {
    "name": "ipython",
    "version": 3
   },
   "file_extension": ".py",
   "mimetype": "text/x-python",
   "name": "python",
   "nbconvert_exporter": "python",
   "pygments_lexer": "ipython3",
   "version": "3.9.13"
  }
 },
 "nbformat": 4,
 "nbformat_minor": 5
}
