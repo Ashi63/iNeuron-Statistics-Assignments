{
 "cells": [
  {
   "cell_type": "markdown",
   "id": "8b41c18a",
   "metadata": {},
   "source": [
    "### 1.A group of n 2 people decide to play an exciting game of Rock-Paper Scissors. As you may recall, Rock smashes Scissors, Scissors cuts Paper, and Paper covers Rock (despite Bart Simpson saying “Good old rock, nothing beats that!”). Usually, this game is played with 2 players, but it can be extended to more players as follows. If exactly 2 of the 3 choices appear when everyone reveals their choice, say a, b 2 {Rock, P aper, Scissors} where a beats b, the game is decisive: the players who chose a win, and the players who chose b lose. Otherwise, the game is indecisive and the players play again. For example, with 5 players, if one player picks Rock, two pick Scissors, and two pick Paper, the round is indecisive and they play again. But if 3 pick Rock and 2 pick Scissors, then the Rock players win and the Scissors players lose the game. 1 Assume that the n players independently and randomly choose between Rock, Scissors, and Paper, with equal probabilities. Let X, Y, Z be the number of players who pick Rock, Scissors, Paper, respectively in one game. \n"
   ]
  },
  {
   "cell_type": "markdown",
   "id": "3818df5e",
   "metadata": {},
   "source": [
    "(a) Find the joint PMF of X, Y, Z. \n"
   ]
  },
  {
   "cell_type": "markdown",
   "id": "16dc46a0",
   "metadata": {},
   "source": [
    "The number of players who pick Rock, Scissors, or Paper is a multinomial distribution with parameters $n$ and $p_1=p_2=p_3=1/3$. Therefore, the joint PMF of $X$, $Y$, and $Z$ is given by:\n",
    "\n",
    "P(X=x,Y=y,Z=z) = n!/x!y!z! (1/3)^n\n",
    "\n",
    "where x+y+z=n"
   ]
  },
  {
   "cell_type": "markdown",
   "id": "125045d0",
   "metadata": {},
   "source": [
    "(b) Find the probability that the game is decisive. Simplify your answer (it should not involve a sum of many terms). \n"
   ]
  },
  {
   "cell_type": "markdown",
   "id": "c845bfae",
   "metadata": {},
   "source": [
    " The game is decisive if and only if exactly 2 of the 3 choices appear. There are {3\\choose 2}=3 ways to choose the two choices that appear, and for each choice there are 2 ways to determine which choice wins. Therefore, the probability that the game is decisive is:\n",
    " \n",
    " P(decisive) = 3*2*(1/3)^2 = 2/3"
   ]
  },
  {
   "cell_type": "markdown",
   "id": "219f26d2",
   "metadata": {},
   "source": [
    "(c) What is the probability that the game is decisive for n = 5? What is the limiting probability that a game is decisive as n ! 1? Explain briefly why your answer makes sense.\n"
   ]
  },
  {
   "cell_type": "markdown",
   "id": "8b390f27",
   "metadata": {},
   "source": [
    "(c) For n=5, the probability that the game is decisive is:\n",
    "begin{align*}\n",
    "\n",
    "P(text{decisive}) &= P(X=3,Y=1,Z=1) + P(X=1,Y=3,Z=1) + P(X=1,Y=1,Z=3)\\\n",
    "\n",
    "&= {5!}{3!1!1!}({1!}{3})^5 + {5!}{1!3!1!}({1}{3})^5 +\n",
    "\n",
    "{5!}{1!1!3!}({1}{3})^5 \n",
    "\n",
    "&= {20}{27}.\n",
    "\n",
    "As n gets large, we can use the law of large numbers to approximate the number of players who pick \n",
    "Rock, Scissors, and Paper by independent Poisson distributions with mean n/3.\n",
    "\n",
    "Therefore, the probability that the game is decisive approaches 2/3 as n to infty.\n",
    "\n",
    "This makes sense intuitively because as the number of players gets larger,\n",
    "the probability that exactly 2 of the 3 choices appear becomes more and more likely.\n",
    "\n"
   ]
  }
 ],
 "metadata": {
  "kernelspec": {
   "display_name": "Python 3 (ipykernel)",
   "language": "python",
   "name": "python3"
  },
  "language_info": {
   "codemirror_mode": {
    "name": "ipython",
    "version": 3
   },
   "file_extension": ".py",
   "mimetype": "text/x-python",
   "name": "python",
   "nbconvert_exporter": "python",
   "pygments_lexer": "ipython3",
   "version": "3.9.13"
  }
 },
 "nbformat": 4,
 "nbformat_minor": 5
}
