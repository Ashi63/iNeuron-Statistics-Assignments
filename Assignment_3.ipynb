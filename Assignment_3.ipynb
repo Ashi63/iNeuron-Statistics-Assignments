{
 "cells": [
  {
   "cell_type": "markdown",
   "id": "072d9f87",
   "metadata": {},
   "source": [
    "### 1. For a group of 7 people, find the probability that all 4 seasons (winter, spring, summer, fall) occur at least once each among their birthdays, assuming that all seasons are equally likely.\n"
   ]
  },
  {
   "cell_type": "code",
   "execution_count": null,
   "id": "98e4c1d6",
   "metadata": {},
   "outputs": [],
   "source": [
    "We can use the principle of inclusion-exclusion to solve this problem. Let $A_i$ denote the event that the $i$th season does not occur among the birthdays, for $i = 1,2,3,4$. We want to find $P(\\overline{A_1} \\cap \\overline{A_2} \\cap \\overline{A_3} \\cap \\overline{A_4})$, which is the probability that all seasons occur at least once.\n",
    "\n",
    "By the principle of inclusion-exclusion, we have:\n",
    "\n",
    "$P(\\overline{A_1} \\cap \\overline{A_2} \\cap \\overline{A_3} \\cap \\overline{A_4}) = 1 - P(A_1 \\cup A_2 \\cup A_3 \\cup A_4)$\n",
    "\n",
    "Using the principle of inclusion-exclusion again, we have:\n",
    "\n",
    "$P(A_1 \\cup A_2 \\cup A_3 \\cup A_4) = \\sum_{i=1}^4 P(A_i) - \\sum_{i<j} P(A_i \\cap A_j) + \\sum_{i<j<k} P(A_i \\cap A_j \\cap A_k) - P(A_1 \\cap A_2 \\cap A_3 \\cap A_4)$\n",
    "\n",
    "Since there are 7 people and 4 seasons, each person's birthday can be in one of the 4 seasons with equal probability. Therefore, we have:\n",
    "\n",
    "$P(A_i) = \\left(\\frac{3}{4}\\right)^7$ for each $i = 1,2,3,4$\n",
    "\n",
    "$P(A_i \\cap A_j) = \\left(\\frac{2}{4}\\right)^7$ for $i<j$\n",
    "\n",
    "$P(A_i \\cap A_j \\cap A_k) = \\left(\\frac{1}{4}\\right)^7$ for $i<j<k$\n",
    "\n",
    "$P(A_1 \\cap A_2 \\cap A_3 \\cap A_4) = 0$\n",
    "\n",
    "Substituting these probabilities into the formula for $P(A_1 \\cup A_2 \\cup A_3 \\cup A_4)$ and then into the formula for $P(\\overline{A_1} \\cap \\overline{A_2} \\cap \\overline{A_3} \\cap \\overline{A_4})$, we get:\n",
    "\n",
    "$P(\\overline{A_1} \\cap \\overline{A_2} \\cap \\overline{A_3} \\cap \\overline{A_4}) = 1 - \\binom{4}{1}\\left(\\frac{3}{4}\\right)^7 + \\binom{4}{2}\\left(\\frac{2}{4}\\right)^7 - \\binom{4}{3}\\left(\\frac{1}{4}\\right)^7 \\approx 0.7627$\n",
    "\n",
    "Therefore, the probability that all 4 seasons occur at least once among the birthdays of the 7 people is approximately 0.7627."
   ]
  },
  {
   "cell_type": "markdown",
   "id": "1483d89e",
   "metadata": {},
   "source": [
    "### 2. Alice attends a small college in which each class meets only once a week. She is deciding between 30 non-overlapping classes. There are 6 classes to choose from for each day of the week, Monday through Friday. Trusting in the benevolence of randomness, Alice decides to register for 7 randomly selected classes out of the 30, with all choices equally likely. What is the probability that she will have classes every day, Monday through Friday?\n"
   ]
  },
  {
   "cell_type": "code",
   "execution_count": null,
   "id": "e3bdbd45",
   "metadata": {},
   "outputs": [],
   "source": [
    "There are a total of $\\binom{30}{7}$ ways that Alice could choose 7 classes out of 30. We can use the Principle of Inclusion-Exclusion (PIE) to count the number of ways that Alice can choose 7 classes so that she has at least one class on each of the five days Monday through Friday.\n",
    "\n",
    "Let $A_i$ denote the set of ways that Alice can choose 7 classes so that she does not have any classes on the $i$-th day of the week. We want to find $|\\bar{A}_1 \\cap \\bar{A}_2 \\cap \\cdots \\cap \\bar{A}_5|$, where $\\bar{A}_i$ denotes the complement of $A_i$.\n",
    "\n",
    "For any $i$, there are $\\binom{24}{7}$ ways that Alice can choose 7 classes out of the 24 remaining classes after removing the 6 classes that meet on day $i$. There are $\\binom{5}{1}$ ways to choose which of the five days will be empty. Therefore, $|A_i| = \\binom{5}{1} \\binom{24}{7}$.\n",
    "\n",
    "For any $i < j$, there are $\\binom{18}{7}$ ways that Alice can choose 7 classes out of the 18 remaining classes after removing the 6 classes that meet on day $i$ and the 6 classes that meet on day $j$. There are $\\binom{5}{2}$ ways to choose which two of the five days will be empty. Therefore, $|A_i \\cap A_j| = \\binom{5}{2} \\binom{18}{7}$.\n",
    "\n",
    "Similarly, we have $|A_i \\cap A_j \\cap A_k| = \\binom{5}{3} \\binom{12}{7}$ for any $i < j < k$, $|A_i \\cap A_j \\cap A_k \\cap A_\\ell| = \\binom{5}{4} \\binom{6}{7}$ for any $i < j < k < \\ell$, and $|A_1 \\cap A_2 \\cap A_3 \\cap A_4 \\cap A_5| = \\binom{5}{5}$.\n",
    "\n",
    "By PIE, we have\n",
    "\n",
    "\\begin{align*}\n",
    "|\\bar{A}1 \\cap \\bar{A}2 \\cap \\cdots \\cap \\bar{A}5| &= \\binom{30}{7} - |A_1 \\cup A_2 \\cup \\cdots \\cup A_5| \\\n",
    "&= \\binom{30}{7} - \\sum{i=1}^5 |A_i| + \\sum{i < j} |A_i \\cap A_j| - \\sum{i < j < k} |A_i \\cap A_j \\cap A_k| \\\n",
    "&\\quad + \\sum_{i < j < k < \\ell} |A_i \\cap A_j \\cap A_k \\cap A_\\ell| - |A_1 \\cap A_2 \\cap A_3 \\cap A_4 \\cap A_5| \\\n",
    "&= \\binom{30}{7} - \\binom{5}{1} \\binom{24}{7} + \\binom{5}{2} \\binom{18}{7} \\\n",
    "&\\quad - \\binom{5}{3} \\binom{12}{7} + \\binom{5}{4} \\binom{6}{7} - \\binom{"
   ]
  },
  {
   "cell_type": "code",
   "execution_count": null,
   "id": "a4a3ef47",
   "metadata": {},
   "outputs": [],
   "source": []
  }
 ],
 "metadata": {
  "kernelspec": {
   "display_name": "Python 3 (ipykernel)",
   "language": "python",
   "name": "python3"
  },
  "language_info": {
   "codemirror_mode": {
    "name": "ipython",
    "version": 3
   },
   "file_extension": ".py",
   "mimetype": "text/x-python",
   "name": "python",
   "nbconvert_exporter": "python",
   "pygments_lexer": "ipython3",
   "version": "3.9.13"
  }
 },
 "nbformat": 4,
 "nbformat_minor": 5
}
